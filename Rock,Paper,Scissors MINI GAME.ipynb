{
 "cells": [
  {
   "cell_type": "markdown",
   "metadata": {},
   "source": [
    "# •\tMini Project ESL III "
   ]
  },
  {
   "cell_type": "markdown",
   "metadata": {},
   "source": [
    "# •\tTitle :- Rock,Paper,Scissors Mini Game"
   ]
  },
  {
   "cell_type": "markdown",
   "metadata": {},
   "source": [
    "# •\tTeam Members:-\n",
    "1.Rahul Donthulla (Roll no.10)\n",
    "\n"
   ]
  },
  {
   "cell_type": "markdown",
   "metadata": {},
   "source": [
    "2.Prathamesh Kumbhar(Roll no.28)\n"
   ]
  },
  {
   "cell_type": "markdown",
   "metadata": {},
   "source": [
    "3.Mahesh Shete(Roll no.50)\n"
   ]
  },
  {
   "cell_type": "markdown",
   "metadata": {},
   "source": [
    "4.Om Sutar(Roll no.53)"
   ]
  },
  {
   "cell_type": "markdown",
   "metadata": {},
   "source": [
    "# Python Rock Paper Scissors Game\n",
    "Rock paper scissors game is also known as stone paper scissors. It is a hand game that is usually played between 2 people, each player can randomly form any one of three from their hand.\n",
    "\n",
    "A player who chooses rock will win by another player who chooses scissors but loose by the player who chooses paper; a player with paper will loose by the player with the scissors.\n",
    "\n",
    "If both players choose the same then the game is tied. Rock paper scissors game is mainly played among kids."
   ]
  },
  {
   "cell_type": "markdown",
   "metadata": {},
   "source": [
    "# Rock-Paper-Scissors Game Code concept\n",
    "The object of the rock-paper-scissor python project is to build a game for a single player that plays with a computer, anywhere, and anytime. This project is base on the rules that:\n",
    "\n",
    "rock blunts scissors so rock wins\n",
    "scissors cut the paper so scissors win\n",
    "paper cover rock so paper wins\n",
    "This project is build using tkinter, random modules, and the basic concept of python.\n",
    "\n",
    "In this python project, players have to choose any one from rock, paper, and scissors. Then click on the play button will show the result of the game."
   ]
  },
  {
   "cell_type": "markdown",
   "metadata": {},
   "source": [
    "# Project Prerequisites\n",
    "To implement this python rock paper scissors project we will use the basic concept of python with tkinter and random module.\n",
    "random module use to generate random numbers"
   ]
  },
  {
   "cell_type": "markdown",
   "metadata": {},
   "source": [
    "# •\tCode:-\n",
    " \t\tExperienced programmers will be very quick to point out that there are better ways to write a “Rock, Paper, Scissors” Python game. But, for a beginner, it’s very important to be able to understand and follow the program. Let’s break it down…\n",
    "First, we import randint  from the random module. This is how our computer opponent will play.\n"
   ]
  },
  {
   "cell_type": "code",
   "execution_count": null,
   "metadata": {},
   "outputs": [],
   "source": [
    "from random import randint\n",
    "\n",
    "#create a list of play options\n",
    "t = [\"Rock\", \"Paper\", \"Scissors\"]\n",
    "\n",
    "#assign a random play to the computer\n",
    "computer = t[randint(0,2)]\n",
    "\n",
    "#set player to False\n",
    "player = False\n",
    "\n",
    "while player == False:\n",
    "#set player to True\n",
    "    player = input(\"Rock, Paper, Scissors?\")\n",
    "    if player == computer:\n",
    "        print(\"Tie!\")\n",
    "    elif player == \"Rock\":\n",
    "        if computer == \"Paper\":\n",
    "            print(\"You lose!\", computer, \"covers\", player)\n",
    "        else:\n",
    "            print(\"You win!\", player, \"smashes\", computer)\n",
    "    elif player == \"Paper\":\n",
    "        if computer == \"Scissors\":\n",
    "            print(\"You lose!\", computer, \"cut\", player)\n",
    "        else:\n",
    "            print(\"You win!\", player, \"covers\", computer)\n",
    "    elif player == \"Scissors\":\n",
    "        if computer == \"Rock\":\n",
    "            print(\"You lose...\", computer, \"smashes\", player)\n",
    "        else:\n",
    "            print(\"You win!\", player, \"cut\", computer)\n",
    "    else:\n",
    "        print(\"That's not a valid play. Check your spelling!\")\n",
    "    #player was set to True, but we want it to be False so the loop continues\n",
    "    player = False\n",
    "    computer = t[randint(0,2)]"
   ]
  },
  {
   "cell_type": "markdown",
   "metadata": {},
   "source": [
    "# Working :-"
   ]
  },
  {
   "cell_type": "markdown",
   "metadata": {},
   "source": [
    "Experienced programmers will be very quick to point out that there are better ways to write a “Rock, Paper, Scissors” Python game. But, for a beginner, it’s very important to be able to understand and follow the program. Let’s break it down…\n",
    "\n",
    "First, we import randint  from the random module. This is how our computer opponent will play.\n",
    "\n",
    "Then we create a list of play options:"
   ]
  },
  {
   "cell_type": "code",
   "execution_count": null,
   "metadata": {},
   "outputs": [],
   "source": [
    "#create a list of play options\n",
    "t = [\"Rock\", \"Paper\", \"Scissors\"]"
   ]
  },
  {
   "cell_type": "markdown",
   "metadata": {},
   "source": [
    "There are three possible plays you and the computer can make on each turn, “Rock”, “Paper” and “Scissors”.\n",
    "\n",
    "Next we setup our players, the computer and you:"
   ]
  },
  {
   "cell_type": "code",
   "execution_count": null,
   "metadata": {},
   "outputs": [],
   "source": [
    "#assign a random play to the computer\n",
    "computer = t[randint(0,2)]\n",
    "\n",
    "#set player to False\n",
    "player = False"
   ]
  },
  {
   "cell_type": "markdown",
   "metadata": {},
   "source": [
    "We assign a random play to the computer using our list, t, and the randint function. Why (0,2)? Remember that computers start counting at 0. So “Rock” is in the 0 position, “Paper” is in the 1, and so on. Unlike playing RPS with friends in meatspace, the computer has made its play and is waiting for you to take your turn. Also unlike playing RPS with friends in meatspace, the computer isn’t go to cheat and change its play after you make yours. We set you, the player, to False. Why? I’m glad you asked. Let’s take a look at the body of our program the while loop:"
   ]
  },
  {
   "cell_type": "code",
   "execution_count": null,
   "metadata": {},
   "outputs": [],
   "source": [
    "while player == False:\n",
    "#set player to True\n",
    "    player = input(\"Rock, Paper, Scissors?\")\n",
    "    if player == computer:\n",
    "        print(\"Tie!\")\n",
    "    elif player == \"Rock\":\n",
    "        if computer == \"Paper\":\n",
    "            print(\"You lose!\", computer, \"covers\", player)\n",
    "        else:\n",
    "            print(\"You win!\", player, \"smashes\", computer)\n",
    "    elif player == \"Paper\":\n",
    "        if computer == \"Scissors\":\n",
    "            print(\"You lose!\", computer, \"cut\", player)\n",
    "        else:\n",
    "            print(\"You win!\", player, \"covers\", computer)\n",
    "    elif player == \"Scissors\":\n",
    "        if computer == \"Rock\":\n",
    "            print(\"You lose...\", computer, \"smashes\", player)\n",
    "        else:\n",
    "            print(\"You win!\", player, \"cut\", computer)\n",
    "    else:\n",
    "        print(\"That's not a valid play. Check your spelling!\")\n",
    "    #player was set to True, but we want it to be False so the loop continues\n",
    "    player = False\n",
    "    computer = t[randint(0,2)]"
   ]
  },
  {
   "cell_type": "markdown",
   "metadata": {},
   "source": [
    "Once the while loop starts, the computer will patiently wait for you to make a play. As soon as you take your turn, your status changes from False to True because any value assigned to the variable player makes player True. We use the input() function to pass the new value to the variable player. Your input will determine which statement is triggered below.\n",
    "\n",
    "Using nested if/elif/else statements, we check every possible outcome of the game and return a message stating the winner, a tie, or an error.\n",
    "\n",
    "We use else at the end to catch anything that isn’t “Rock”, “Paper” or “Scissors”. Finally we reset the player value to False to restart the while loop."
   ]
  },
  {
   "cell_type": "markdown",
   "metadata": {},
   "source": [
    "#  Module"
   ]
  },
  {
   "cell_type": "markdown",
   "metadata": {},
   "source": [
    "1.random :-\n",
    "   \n",
    "Functions in the random module depend on a pseudo-random number generator function random(), which generates a random float number between 0.0 and 1.0.\n",
    "\n",
    "2.randint :-\n",
    "\n",
    "random.randint()\n",
    "This function returns a random integer between the specified integers"
   ]
  },
  {
   "cell_type": "markdown",
   "metadata": {},
   "source": [
    "# Conclusion:- \n",
    "        Hence We Learned use of random() module with randint() method\n",
    "        _rock blunts scissors so rock wins\n",
    "        _scissors cut the paper so scissors win\n",
    "        _paper cover rock so paper wins"
   ]
  },
  {
   "cell_type": "code",
   "execution_count": null,
   "metadata": {},
   "outputs": [],
   "source": []
  }
 ],
 "metadata": {
  "kernelspec": {
   "display_name": "Python 2",
   "language": "python",
   "name": "python2"
  },
  "language_info": {
   "codemirror_mode": {
    "name": "ipython",
    "version": 2
   },
   "file_extension": ".py",
   "mimetype": "text/x-python",
   "name": "python",
   "nbconvert_exporter": "python",
   "pygments_lexer": "ipython2",
   "version": "2.7.16"
  }
 },
 "nbformat": 4,
 "nbformat_minor": 2
}
